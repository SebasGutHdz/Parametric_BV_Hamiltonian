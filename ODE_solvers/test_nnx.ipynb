{
 "cells": [
  {
   "cell_type": "code",
   "execution_count": 3,
   "id": "d3c2654a",
   "metadata": {},
   "outputs": [],
   "source": [
    "import os\n",
    "os.environ['XLA_PYTHON_CLIENT_PREALLOCATE'] = 'false'\n",
    "from pathlib import Path\n",
    "root_path = Path.cwd().parent.absolute()\n",
    "import sys\n",
    "sys.path.append(str(root_path))\n",
    "import os"
   ]
  },
  {
   "cell_type": "code",
   "execution_count": 4,
   "id": "8b4598e7",
   "metadata": {},
   "outputs": [],
   "source": [
    "from architectures.architectures import MLP\n",
    "from flax import nnx\n",
    "import jax\n",
    "import jax.numpy as jnp\n",
    "from jaxtyping import Array"
   ]
  },
  {
   "cell_type": "code",
   "execution_count": 5,
   "id": "55124424",
   "metadata": {},
   "outputs": [
    {
     "name": "stdout",
     "output_type": "stream",
     "text": [
      "Using device: cuda:0\n"
     ]
    }
   ],
   "source": [
    "device = jax.devices()[0] if jax.devices() else jax.devices('cpu')[0]\n",
    "print(f\"Using device: {device}\")"
   ]
  },
  {
   "cell_type": "markdown",
   "id": "a867961a",
   "metadata": {},
   "source": [
    "# Import model"
   ]
  },
  {
   "cell_type": "code",
   "execution_count": 6,
   "id": "00407157",
   "metadata": {},
   "outputs": [],
   "source": [
    "model = MLP(din=1, num_layers=3, width_layers=64, dout=1, activation_fn=\"SinTu\", rngs=nnx.Rngs(0))"
   ]
  },
  {
   "cell_type": "code",
   "execution_count": 7,
   "id": "4f5216dd",
   "metadata": {},
   "outputs": [],
   "source": [
    "y = model(x = jnp.ones((10,1),device= device))"
   ]
  },
  {
   "cell_type": "markdown",
   "id": "fcfb8b9c",
   "metadata": {},
   "source": [
    "# NODE setup"
   ]
  },
  {
   "cell_type": "code",
   "execution_count": 8,
   "id": "cb6c3ac0",
   "metadata": {},
   "outputs": [],
   "source": [
    "from diffrax import diffeqsolve, ODETerm,Euler,Heun"
   ]
  },
  {
   "cell_type": "code",
   "execution_count": 10,
   "id": "1ae32506",
   "metadata": {},
   "outputs": [],
   "source": [
    "# Neural ODE class\n",
    "class NeuralODE(nnx.Module):\n",
    "    def __init__(self, \n",
    "                 dynamics_model = nnx.Module,\n",
    "                 time_dependent: bool = False,\n",
    "                 solver=Euler(),\n",
    "                 dt0=0.1,\n",
    "                 rtol=1e-4,\n",
    "                 atol=1e-6):\n",
    "        self.dynamics = dynamics_model\n",
    "        self.solver = solver\n",
    "        self.dt0 = dt0\n",
    "        self.rtol = rtol\n",
    "        self.atol = atol\n",
    "        self.time_dependent = time_dependent\n",
    "\n",
    "    # Define the vector field function\n",
    "    def vector_field(self,t, y, args):\n",
    "        data = y\n",
    "        if self.time_dependent:\n",
    "            data = jnp.concatenate([t[:,None], y], axis=-1)  # Add time as a feature\n",
    "        return self.dynamics(data)\n",
    "\n",
    "    @nnx.jit\n",
    "    def __call__(self, y0: Array, t_span: tuple) -> Array:\n",
    "        \"\"\"\n",
    "        Solve the ODE from t_span[0] to t_span[1] with initial condition y0\n",
    "        \n",
    "        Args:\n",
    "            y0: Initial condition, shape (batch_size, feature_dim) or (feature_dim,)\n",
    "            t_span: Tuple of (t0, t1) for integration bounds\n",
    "            \n",
    "        Returns:\n",
    "            Final state at time t1\n",
    "        \"\"\"\n",
    "        \n",
    "        \n",
    "        \n",
    "        # Create the ODE term - this is what diffrax expects\n",
    "        term = ODETerm(self.vector_field)\n",
    "    \n",
    "        \n",
    "        # Solve the ODE\n",
    "        solution = diffeqsolve(\n",
    "            terms=term,\n",
    "            solver=self.solver,\n",
    "            t0=t_span[0],\n",
    "            t1=t_span[1], \n",
    "            dt0=self.dt0,\n",
    "            y0=y0,\n",
    "        )\n",
    "        \n",
    "        return solution.ys[-1]  # Return final state"
   ]
  },
  {
   "cell_type": "code",
   "execution_count": 12,
   "id": "13feae57",
   "metadata": {},
   "outputs": [
    {
     "name": "stdout",
     "output_type": "stream",
     "text": [
      "Final state: [1.3593439 0.4089642]\n"
     ]
    }
   ],
   "source": [
    "key = jax.random.PRNGKey(42)\n",
    "rngs = nnx.Rngs(key)\n",
    "model = MLP(din=2, num_layers=3, width_layers=64, dout=2, activation_fn=\"SinTu\", rngs=nnx.Rngs(0))\n",
    "node = NeuralODE(\n",
    "    dynamics_model=model,\n",
    "    time_dependent=False,\n",
    "    solver=Euler(),\n",
    "    dt0=0.1,\n",
    "    rtol=1e-4,\n",
    "    atol=1e-6\n",
    ")\n",
    "\n",
    "# Initial condition\n",
    "y0 = jnp.array([1.0, 0.5])\n",
    "\n",
    "# Solve from t=0 to t=1\n",
    "y_final = node(y0, (0.0, 1.0))\n",
    "print(\"Final state:\", y_final)"
   ]
  },
  {
   "cell_type": "code",
   "execution_count": null,
   "id": "41be343e",
   "metadata": {},
   "outputs": [],
   "source": []
  }
 ],
 "metadata": {
  "kernelspec": {
   "display_name": "BV_Hamiltonian",
   "language": "python",
   "name": "python3"
  },
  "language_info": {
   "codemirror_mode": {
    "name": "ipython",
    "version": 3
   },
   "file_extension": ".py",
   "mimetype": "text/x-python",
   "name": "python",
   "nbconvert_exporter": "python",
   "pygments_lexer": "ipython3",
   "version": "3.13.5"
  }
 },
 "nbformat": 4,
 "nbformat_minor": 5
}
