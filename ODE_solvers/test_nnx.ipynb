{
 "cells": [
  {
   "cell_type": "code",
   "execution_count": 1,
   "id": "d3c2654a",
   "metadata": {},
   "outputs": [],
   "source": [
    "import os\n",
    "os.environ['XLA_PYTHON_CLIENT_PREALLOCATE'] = 'false'\n",
    "from pathlib import Path\n",
    "root_path = Path.cwd().parent.absolute()\n",
    "import sys\n",
    "sys.path.append(str(root_path))\n",
    "import os"
   ]
  },
  {
   "cell_type": "code",
   "execution_count": 2,
   "id": "8b4598e7",
   "metadata": {},
   "outputs": [],
   "source": [
    "from architectures.architectures import MLP\n",
    "from flax import nnx\n",
    "import jax\n",
    "import jax.numpy as jnp\n",
    "from jaxtyping import Array"
   ]
  },
  {
   "cell_type": "code",
   "execution_count": 3,
   "id": "55124424",
   "metadata": {},
   "outputs": [
    {
     "name": "stdout",
     "output_type": "stream",
     "text": [
      "Using device: cuda:0\n"
     ]
    }
   ],
   "source": [
    "device = jax.devices()[0] if jax.devices() else jax.devices('cpu')[0]\n",
    "print(f\"Using device: {device}\")"
   ]
  },
  {
   "cell_type": "markdown",
   "id": "a867961a",
   "metadata": {},
   "source": [
    "# Import model"
   ]
  },
  {
   "cell_type": "code",
   "execution_count": 4,
   "id": "00407157",
   "metadata": {},
   "outputs": [],
   "source": [
    "model = MLP(din=1, num_layers=3, width_layers=64, dout=1, activation_fn=\"SinTu\", rngs=nnx.Rngs(0))"
   ]
  },
  {
   "cell_type": "code",
   "execution_count": 5,
   "id": "4f5216dd",
   "metadata": {},
   "outputs": [],
   "source": [
    "y = model(x = jnp.ones((10,1),device= device))"
   ]
  },
  {
   "cell_type": "markdown",
   "id": "fcfb8b9c",
   "metadata": {},
   "source": [
    "# NODE setup"
   ]
  },
  {
   "cell_type": "code",
   "execution_count": 6,
   "id": "cb6c3ac0",
   "metadata": {},
   "outputs": [],
   "source": [
    "from diffrax import diffeqsolve, ODETerm,Euler,Heun,DirectAdjoint\n",
    "from ODE_solvers.solvers import string_2_solver\n",
    "\n",
    "from jaxtyping import PyTree\n",
    "from typing import Tuple,Optional"
   ]
  },
  {
   "cell_type": "code",
   "execution_count": 7,
   "id": "1ae32506",
   "metadata": {},
   "outputs": [],
   "source": [
    "# # Neural ODE class\n",
    "# class NeuralODE(nnx.Module):\n",
    "#     def __init__(self, \n",
    "#                  dynamics_model = nnx.Module,\n",
    "#                  time_dependent: bool = False,\n",
    "#                  solver=Euler(),\n",
    "#                  dt0=0.1,\n",
    "#                  rtol=1e-4,\n",
    "#                  atol=1e-6):\n",
    "#         self.dynamics = dynamics_model\n",
    "#         self.solver = solver\n",
    "#         self.dt0 = dt0\n",
    "#         self.rtol = rtol\n",
    "#         self.atol = atol\n",
    "#         self.time_dependent = time_dependent\n",
    "\n",
    "#     # Define the vector field function\n",
    "#     def vector_field(self,t, y, args):\n",
    "#         data = y\n",
    "#         if self.time_dependent:\n",
    "#             data = jnp.concatenate([t[:,None], y], axis=-1)  # Add time as a feature\n",
    "#         return self.dynamics(data)\n",
    "\n",
    "#     @nnx.jit\n",
    "#     def __call__(self, y0: Array, t_span: tuple, params: Optional[PyTree] = None) -> Array:\n",
    "#         \"\"\"\n",
    "#         Solve the ODE from t_span[0] to t_span[1] with initial condition y0\n",
    "        \n",
    "#         Args:\n",
    "#             y0: Initial condition, shape (batch_size, feature_dim) or (feature_dim,)\n",
    "#             t_span: Tuple of (t0, t1) for integration bounds\n",
    "            \n",
    "#         Returns:\n",
    "#             Final state at time t1\n",
    "#         \"\"\"\n",
    "        \n",
    "#         if params is None:\n",
    "#             model = self.dynamics\n",
    "#         else:\n",
    "#             graphdef,_ = nnx.split(self.dynamics)\n",
    "#             model = nnx.merge(graphdef, params)\n",
    "#         # Use defined model for the vector field\n",
    "#         def vector_field(t, y, args):\n",
    "#             data = y\n",
    "#             if self.time_dependent:\n",
    "#                 data = jnp.concatenate([t[:,None], y], axis=-1)  # Add time as a feature\n",
    "#             return model(data)\n",
    "#         # Create the ODE term            \n",
    "#         term = ODETerm(vector_field)     \n",
    "\n",
    "#         # Solve the ODE\n",
    "#         solution = diffeqsolve(\n",
    "#             terms=term,\n",
    "#             solver=self.solver,\n",
    "#             t0=t_span[0],\n",
    "#             t1=t_span[1], \n",
    "#             dt0=self.dt0,\n",
    "#             y0=y0,\n",
    "#             adjoint=DirectAdjoint()\n",
    "#         )\n",
    "        \n",
    "#         return solution.ys[-1]  # Return final state"
   ]
  },
  {
   "cell_type": "code",
   "execution_count": null,
   "id": "07859c14",
   "metadata": {},
   "outputs": [],
   "source": [
    "# Neural ODE class\n",
    "class NeuralODE(nnx.Module):\n",
    "    def __init__(self, \n",
    "                 dynamics_model = nnx.Module,\n",
    "                 time_dependent: bool = False,\n",
    "                 solver: str = \"euler\",\n",
    "                 dt0=0.1,\n",
    "                 rtol=1e-4,\n",
    "                 atol=1e-6):\n",
    "        self.dynamics = dynamics_model\n",
    "        self.solver = string_2_solver(solver)\n",
    "        self.dt0 = dt0\n",
    "        self.rtol = rtol\n",
    "        self.atol = atol\n",
    "        self.time_dependent = time_dependent\n",
    "\n",
    "    # Define the vector field function\n",
    "    def vector_field(self,t, y, args):\n",
    "        data = y\n",
    "        if self.time_dependent:\n",
    "            data = jnp.concatenate([t[:,None], y], axis=-1)  # Add time as a feature\n",
    "        return self.dynamics(data)\n",
    "\n",
    "    # @nnx.jit\n",
    "    def __call__(self, y0: Array, t_span: Tuple[float,float], params: Optional[PyTree] = None) -> Array:\n",
    "        \"\"\"\n",
    "        Solve the ODE from t_span[0] to t_span[1] with initial condition y0\n",
    "        \n",
    "        Args:\n",
    "            y0: Initial condition, shape (batch_size, feature_dim) or (feature_dim,)\n",
    "            t_span: Tuple of (t0, t1) for integration bounds\n",
    "            \n",
    "        Returns:\n",
    "            Final state at time t1\n",
    "        \"\"\"\n",
    "        \n",
    "        if params is None:\n",
    "            model = self.dynamics\n",
    "        else:\n",
    "            graphdef,_ = nnx.split(self.dynamics)\n",
    "            model = nnx.merge(graphdef, params)\n",
    "        # Use defined model for the vector field\n",
    "        def vector_field(t: float, y: Array, args: Optional[dict] = None):\n",
    "            data = y\n",
    "            if self.time_dependent:\n",
    "                data = jnp.concatenate([t[:,None], y], axis=-1)  # Add time as a feature\n",
    "            return model(data)\n",
    "        \n",
    "        t_list = jnp.arange(t_span[0], t_span[1], self.dt0)\n",
    "\n",
    "        y = self.solver(vector_field,t_list,y0,history=False)\n",
    "       \n",
    "        \n",
    "        return y.reshape(-1,y0.shape[-1])  # Return final state"
   ]
  },
  {
   "cell_type": "code",
   "execution_count": 9,
   "id": "13feae57",
   "metadata": {},
   "outputs": [
    {
     "name": "stdout",
     "output_type": "stream",
     "text": [
      "Final state: [[1.3219943  0.41655946]]\n"
     ]
    }
   ],
   "source": [
    "key = jax.random.PRNGKey(0)\n",
    "rngs = nnx.Rngs(key)\n",
    "model = MLP(din=2, num_layers=3, width_layers=64, dout=2, activation_fn=\"SinTu\", rngs=nnx.Rngs(0))\n",
    "node = NeuralODE(\n",
    "    dynamics_model=model,\n",
    "    time_dependent=False,\n",
    "    dt0=0.1,\n",
    "    rtol=1e-4,\n",
    "    atol=1e-6\n",
    ")\n",
    "\n",
    "# Initial condition\n",
    "y0 = jnp.array([1.0, 0.5])\n",
    "\n",
    "# Solve from t=0 to t=1\n",
    "y_final = node(y0, (0.0, 1.0))\n",
    "print(\"Final state:\", y_final)"
   ]
  },
  {
   "cell_type": "code",
   "execution_count": 10,
   "id": "fe57536a",
   "metadata": {},
   "outputs": [],
   "source": [
    "graphdef,state = nnx.split(node)"
   ]
  },
  {
   "cell_type": "code",
   "execution_count": 11,
   "id": "28a79370",
   "metadata": {},
   "outputs": [],
   "source": [
    "from functools import partial\n",
    "from jax import jit,grad,vmap\n",
    "from jax.scipy.sparse.linalg import cg,gmres\n",
    "class G_matrix:\n",
    "    '''\n",
    "    Computation of G matrix\n",
    "    '''\n",
    "\n",
    "    def __init__(self, node: nnx.Module ):\n",
    "        \n",
    "        '''\n",
    "        Initialize G matrix computation \n",
    "\n",
    "        Args:\n",
    "            node: Neural ODE model nnx.Module instance     \n",
    "        '''\n",
    "\n",
    "        self.node = node\n",
    "        \n",
    "\n",
    "    @partial(jit,static_argnums = (0,))\n",
    "    def mvp(self,z_samples: Array, eta: PyTree, params: Optional[PyTree] = None)-> PyTree:\n",
    "        '''\n",
    "        Computation of G eta\n",
    "        Args:\n",
    "            z_samples: (Bs,d) Samples from reference density\n",
    "            eta: PyTree with same GraphDef as node\n",
    "            parms: PyTree where the G matrix is computed at\n",
    "        Return:\n",
    "            G(theta) eta : PyTree\n",
    "        '''\n",
    "\n",
    "        if params is None:\n",
    "            \n",
    "            _,params = nnx.split(self.node)\n",
    "        \n",
    "        def single_sample_contribution(z: Array)-> PyTree:\n",
    "\n",
    "            # Define the flow map\n",
    "\n",
    "            def flow_map(p):\n",
    "\n",
    "                return self.node(z.reshape(1,-1), (0.0, 1.0), params=p)\n",
    "\n",
    "            # Step 1: Compute \\partial_{theta}T @ eta using Jvp\n",
    "\n",
    "            jvp_result = jax.jvp(flow_map,(params,),(eta,))[1]\n",
    "\n",
    "            # Step 2: Compute \\partial_{\\theta}T @ jvp_result\n",
    "\n",
    "            _,vjp_fn = jax.vjp(flow_map,params)\n",
    "\n",
    "            result = vjp_fn(jvp_result)[0]\n",
    "\n",
    "            return result\n",
    "    \n",
    "        # Vectorize over all samples\n",
    "\n",
    "        contributions = vmap(single_sample_contribution)(z_samples)\n",
    "\n",
    "        return jax.tree.map(lambda x: jnp.mean(x, axis=0), contributions)\n",
    "    \n",
    "    @partial(jit,static_argnums = (0,))\n",
    "    def solve_system(self,z_samples: Array, b: PyTree, params: Optional[PyTree] = None, tol: float = 1e-5, maxiter: int = 10, method: str = \"cg\", x0: Optional[PyTree] = None) -> PyTree:\n",
    "\n",
    "        '''\n",
    "        Solve G(theta) x = b using conjugate gradient method\n",
    "\n",
    "        Args:\n",
    "            z_samples: (Bs,d) Samples from reference density\n",
    "            b: PyTree with same GraphDef as node\n",
    "            parms: PyTree where the G matrix is computed at\n",
    "            tol: Tolerance for CG solver\n",
    "            maxiter: Maximum number of iterations for CG solver\n",
    "            method: Method to use for solving the linear system (\"cg\" or \"gmres\")\n",
    "            x0: Initial guess for the solution\n",
    "\n",
    "        Returns:\n",
    "            x: PyTree solution to G(theta)x = b\n",
    "        '''\n",
    "        if method not in [\"cg\",\"gmres\"]:\n",
    "            raise ValueError(f\"Unknown method: {method}\")\n",
    "        if method == \"cg\":\n",
    "            solver = cg\n",
    "        elif method == \"gmres\":\n",
    "            solver = gmres\n",
    "        if params is None:\n",
    "            _,params = nnx.split(self.node)\n",
    "        # Define the linear operator for G(theta)\n",
    "        matvec = lambda eta: self.mvp(z_samples, eta, params)\n",
    "        # Use Jax inbuilts methods cg or gmres. \n",
    "        x,_ = solver(matvec,b,tol = tol, maxiter = maxiter,x0=x0)\n",
    "        return x\n"
   ]
  },
  {
   "cell_type": "code",
   "execution_count": 12,
   "id": "cd43b0c6",
   "metadata": {},
   "outputs": [],
   "source": [
    "G_mat = G_matrix(node)"
   ]
  },
  {
   "cell_type": "code",
   "execution_count": 36,
   "id": "6ca0d193",
   "metadata": {},
   "outputs": [],
   "source": [
    "# Test\n",
    "\n",
    "key = jax.random.PRNGKey(0)\n",
    "rngs = nnx.Rngs(key)\n",
    "\n",
    "n_samples = 100_000\n",
    "d = 2\n",
    "z_samples = jax.random.normal(key,(n_samples,d))\n"
   ]
  },
  {
   "cell_type": "code",
   "execution_count": 37,
   "id": "fba12eaf",
   "metadata": {},
   "outputs": [],
   "source": [
    "_,params = nnx.split(node)\n",
    "key,subkey = jax.random.split(key)\n",
    "eta = jax.tree.map(lambda p:jax.random.normal(subkey, p.shape)*10, params) #   jax.numpy.ones(p.shape)\n",
    "key,subkey = jax.random.split(key)\n",
    "epsilon = jax.tree.map(lambda p: jax.random.normal(subkey, p.shape)*0.1, params)\n",
    "eta_pert = jax.tree.map(lambda e,ep: e+ep, eta, epsilon)"
   ]
  },
  {
   "cell_type": "code",
   "execution_count": 38,
   "id": "1db3700c",
   "metadata": {},
   "outputs": [],
   "source": [
    "# Compute G_hat@eta\n",
    "result = G_mat.mvp(z_samples, eta)"
   ]
  },
  {
   "cell_type": "code",
   "execution_count": 39,
   "id": "98837cc7",
   "metadata": {},
   "outputs": [],
   "source": [
    "# Test solver \n",
    "result_solver = G_mat.solve_system(z_samples, result, tol=1e-5, maxiter=100,x0=eta_pert)"
   ]
  },
  {
   "cell_type": "code",
   "execution_count": 41,
   "id": "c83a9a9f",
   "metadata": {},
   "outputs": [
    {
     "data": {
      "text/plain": [
       "State({\n",
       "  'dynamics': {\n",
       "    'layers': {\n",
       "      0: {\n",
       "        'bias': VariableState( # 1 (4 B)\n",
       "          type=Param,\n",
       "          value=Array(0.00800791, dtype=float32)\n",
       "        ),\n",
       "        'kernel': VariableState( # 1 (4 B)\n",
       "          type=Param,\n",
       "          value=Array(0.00786804, dtype=float32)\n",
       "        )\n",
       "      },\n",
       "      2: {\n",
       "        'bias': VariableState( # 1 (4 B)\n",
       "          type=Param,\n",
       "          value=Array(0.00677426, dtype=float32)\n",
       "        ),\n",
       "        'kernel': VariableState( # 1 (4 B)\n",
       "          type=Param,\n",
       "          value=Array(0.00924908, dtype=float32)\n",
       "        )\n",
       "      },\n",
       "      4: {\n",
       "        'bias': VariableState( # 1 (4 B)\n",
       "          type=Param,\n",
       "          value=Array(0.00791422, dtype=float32)\n",
       "        ),\n",
       "        'kernel': VariableState( # 1 (4 B)\n",
       "          type=Param,\n",
       "          value=Array(0.00942331, dtype=float32)\n",
       "        )\n",
       "      },\n",
       "      6: {\n",
       "        'bias': VariableState( # 1 (4 B)\n",
       "          type=Param,\n",
       "          value=Array(0.00308591, dtype=float32)\n",
       "        ),\n",
       "        'kernel': VariableState( # 1 (4 B)\n",
       "          type=Param,\n",
       "          value=Array(0.00773033, dtype=float32)\n",
       "        )\n",
       "      }\n",
       "    }\n",
       "  }\n",
       "})"
      ]
     },
     "execution_count": 41,
     "metadata": {},
     "output_type": "execute_result"
    }
   ],
   "source": [
    "jax.tree.map(lambda x,y: jnp.linalg.norm(x-y)/jnp.linalg.norm(y), result_solver, eta)"
   ]
  },
  {
   "cell_type": "code",
   "execution_count": 42,
   "id": "d7df1d3e",
   "metadata": {},
   "outputs": [],
   "source": [
    "verify_result = G_mat.mvp(z_samples, result_solver)"
   ]
  },
  {
   "cell_type": "code",
   "execution_count": 43,
   "id": "5cfded27",
   "metadata": {},
   "outputs": [
    {
     "data": {
      "text/plain": [
       "State({\n",
       "  'dynamics': {\n",
       "    'layers': {\n",
       "      0: {\n",
       "        'bias': VariableState( # 1 (4 B)\n",
       "          type=Param,\n",
       "          value=Array(0.00045904, dtype=float32)\n",
       "        ),\n",
       "        'kernel': VariableState( # 1 (4 B)\n",
       "          type=Param,\n",
       "          value=Array(0.00040537, dtype=float32)\n",
       "        )\n",
       "      },\n",
       "      2: {\n",
       "        'bias': VariableState( # 1 (4 B)\n",
       "          type=Param,\n",
       "          value=Array(0.00047686, dtype=float32)\n",
       "        ),\n",
       "        'kernel': VariableState( # 1 (4 B)\n",
       "          type=Param,\n",
       "          value=Array(0.00051283, dtype=float32)\n",
       "        )\n",
       "      },\n",
       "      4: {\n",
       "        'bias': VariableState( # 1 (4 B)\n",
       "          type=Param,\n",
       "          value=Array(0.0004596, dtype=float32)\n",
       "        ),\n",
       "        'kernel': VariableState( # 1 (4 B)\n",
       "          type=Param,\n",
       "          value=Array(0.00048653, dtype=float32)\n",
       "        )\n",
       "      },\n",
       "      6: {\n",
       "        'bias': VariableState( # 1 (4 B)\n",
       "          type=Param,\n",
       "          value=Array(0.00044246, dtype=float32)\n",
       "        ),\n",
       "        'kernel': VariableState( # 1 (4 B)\n",
       "          type=Param,\n",
       "          value=Array(0.00048373, dtype=float32)\n",
       "        )\n",
       "      }\n",
       "    }\n",
       "  }\n",
       "})"
      ]
     },
     "execution_count": 43,
     "metadata": {},
     "output_type": "execute_result"
    }
   ],
   "source": [
    "jax.tree.map(lambda x,y: jnp.linalg.norm(x-y)/jnp.linalg.norm(y), result, verify_result)"
   ]
  },
  {
   "cell_type": "code",
   "execution_count": null,
   "id": "761b1041",
   "metadata": {},
   "outputs": [],
   "source": []
  },
  {
   "cell_type": "code",
   "execution_count": null,
   "id": "645fc321",
   "metadata": {},
   "outputs": [],
   "source": []
  }
 ],
 "metadata": {
  "kernelspec": {
   "display_name": "BV_Hamiltonian",
   "language": "python",
   "name": "python3"
  },
  "language_info": {
   "codemirror_mode": {
    "name": "ipython",
    "version": 3
   },
   "file_extension": ".py",
   "mimetype": "text/x-python",
   "name": "python",
   "nbconvert_exporter": "python",
   "pygments_lexer": "ipython3",
   "version": "3.13.5"
  }
 },
 "nbformat": 4,
 "nbformat_minor": 5
}
