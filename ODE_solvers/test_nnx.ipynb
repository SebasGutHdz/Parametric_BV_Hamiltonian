{
 "cells": [
  {
   "cell_type": "code",
   "execution_count": 1,
   "id": "d3c2654a",
   "metadata": {},
   "outputs": [],
   "source": [
    "import os\n",
    "os.environ['XLA_PYTHON_CLIENT_PREALLOCATE'] = 'false'\n",
    "from pathlib import Path\n",
    "root_path = Path.cwd().parent.absolute()\n",
    "import sys\n",
    "sys.path.append(str(root_path))\n",
    "import os"
   ]
  },
  {
   "cell_type": "code",
   "execution_count": 2,
   "id": "8b4598e7",
   "metadata": {},
   "outputs": [],
   "source": [
    "from architectures.architectures import MLP\n",
    "\n",
    "from flax import nnx\n",
    "import jax\n",
    "from jax._src.tree_util import tree_structure\n",
    "import jax.numpy as jnp\n",
    "from jaxtyping import Array"
   ]
  },
  {
   "cell_type": "code",
   "execution_count": 3,
   "id": "55124424",
   "metadata": {},
   "outputs": [
    {
     "name": "stdout",
     "output_type": "stream",
     "text": [
      "Using device: cuda:0\n"
     ]
    }
   ],
   "source": [
    "device = jax.devices()[0] if jax.devices() else jax.devices('cpu')[0]\n",
    "print(f\"Using device: {device}\")"
   ]
  },
  {
   "cell_type": "markdown",
   "id": "a867961a",
   "metadata": {},
   "source": [
    "# Import model"
   ]
  },
  {
   "cell_type": "code",
   "execution_count": 4,
   "id": "00407157",
   "metadata": {},
   "outputs": [],
   "source": [
    "model = MLP(din=1, num_layers=3, width_layers=64, dout=1, activation_fn=\"SinTu\", rngs=nnx.Rngs(0))"
   ]
  },
  {
   "cell_type": "code",
   "execution_count": 5,
   "id": "4f5216dd",
   "metadata": {},
   "outputs": [],
   "source": [
    "y = model(x = jnp.ones((10,1),device= device))"
   ]
  },
  {
   "cell_type": "markdown",
   "id": "fcfb8b9c",
   "metadata": {},
   "source": [
    "# NODE setup"
   ]
  },
  {
   "cell_type": "code",
   "execution_count": 6,
   "id": "cb6c3ac0",
   "metadata": {},
   "outputs": [],
   "source": [
    "from architectures.node import NeuralODE\n",
    "\n"
   ]
  },
  {
   "cell_type": "code",
   "execution_count": 7,
   "id": "13feae57",
   "metadata": {},
   "outputs": [
    {
     "name": "stdout",
     "output_type": "stream",
     "text": [
      "Final state: [[1.2042602  0.14924549]]\n"
     ]
    }
   ],
   "source": [
    "key = jax.random.PRNGKey(0)\n",
    "rngs = nnx.Rngs(key)\n",
    "model = MLP(din=2, num_layers=3, width_layers=64, dout=2, activation_fn=\"tanh\", rngs=nnx.Rngs(0))\n",
    "node = NeuralODE(\n",
    "    dynamics_model=model,\n",
    "    time_dependent=False,\n",
    "    dt0=0.1,\n",
    "    rtol=1e-4,\n",
    "    atol=1e-6\n",
    ")\n",
    "\n",
    "# Initial condition\n",
    "y0 = jnp.array([1.0, 0.5])\n",
    "\n",
    "# Solve from t=0 to t=1\n",
    "y_final = node(y0, (0.0, 1.0))\n",
    "print(\"Final state:\", y_final)"
   ]
  },
  {
   "cell_type": "markdown",
   "id": "c23847a9",
   "metadata": {},
   "source": [
    "# G Mat"
   ]
  },
  {
   "cell_type": "code",
   "execution_count": 8,
   "id": "f6ae0828",
   "metadata": {},
   "outputs": [],
   "source": [
    "from geometry.G_matrix import G_matrix"
   ]
  },
  {
   "cell_type": "code",
   "execution_count": 9,
   "id": "cd43b0c6",
   "metadata": {},
   "outputs": [],
   "source": [
    "G_mat = G_matrix(node)"
   ]
  },
  {
   "cell_type": "code",
   "execution_count": 10,
   "id": "6ca0d193",
   "metadata": {},
   "outputs": [],
   "source": [
    "# Test\n",
    "\n",
    "key = jax.random.PRNGKey(0)\n",
    "rngs = nnx.Rngs(key)\n",
    "\n",
    "n_samples = 100_000\n",
    "d = 2\n",
    "z_samples = jax.random.normal(key,(n_samples,d))\n"
   ]
  },
  {
   "cell_type": "code",
   "execution_count": 11,
   "id": "fba12eaf",
   "metadata": {},
   "outputs": [],
   "source": [
    "_,params = nnx.split(node)\n",
    "key,subkey = jax.random.split(key)\n",
    "eta = jax.tree.map(lambda p:jax.random.normal(subkey, p.shape)*10, params) #   jax.numpy.ones(p.shape)\n",
    "key,subkey = jax.random.split(key)\n",
    "epsilon = jax.tree.map(lambda p: jax.random.normal(subkey, p.shape)*0.1, params)\n",
    "eta_pert = jax.tree.map(lambda e,ep: e+ep, eta, epsilon)"
   ]
  },
  {
   "cell_type": "code",
   "execution_count": 12,
   "id": "1db3700c",
   "metadata": {},
   "outputs": [],
   "source": [
    "# Compute G_hat@eta\n",
    "result = G_mat.mvp(z_samples, eta)"
   ]
  },
  {
   "cell_type": "code",
   "execution_count": 13,
   "id": "98837cc7",
   "metadata": {},
   "outputs": [
    {
     "name": "stdout",
     "output_type": "stream",
     "text": [
      "{'success': False, 'iterations': 50, 'norm_res': Array(0.00699871, dtype=float32)}\n"
     ]
    }
   ],
   "source": [
    "# Test solver \n",
    "result_solver = G_mat.solve_system(z_samples, result, tol=1e-6, maxiter=50,x0 = None, method=\"minres\")"
   ]
  },
  {
   "cell_type": "code",
   "execution_count": 14,
   "id": "c83a9a9f",
   "metadata": {},
   "outputs": [
    {
     "data": {
      "text/plain": [
       "State({\n",
       "  'dynamics': {\n",
       "    'layers': {\n",
       "      0: {\n",
       "        'bias': VariableState( # 1 (4 B)\n",
       "          type=Param,\n",
       "          value=Array(0.97402227, dtype=float32)\n",
       "        ),\n",
       "        'kernel': VariableState( # 1 (4 B)\n",
       "          type=Param,\n",
       "          value=Array(1.0005058, dtype=float32)\n",
       "        )\n",
       "      },\n",
       "      2: {\n",
       "        'bias': VariableState( # 1 (4 B)\n",
       "          type=Param,\n",
       "          value=Array(0.97868973, dtype=float32)\n",
       "        ),\n",
       "        'kernel': VariableState( # 1 (4 B)\n",
       "          type=Param,\n",
       "          value=Array(1.0002952, dtype=float32)\n",
       "        )\n",
       "      },\n",
       "      4: {\n",
       "        'bias': VariableState( # 1 (4 B)\n",
       "          type=Param,\n",
       "          value=Array(0.94813395, dtype=float32)\n",
       "        ),\n",
       "        'kernel': VariableState( # 1 (4 B)\n",
       "          type=Param,\n",
       "          value=Array(0.99911475, dtype=float32)\n",
       "        )\n",
       "      },\n",
       "      6: {\n",
       "        'bias': VariableState( # 1 (4 B)\n",
       "          type=Param,\n",
       "          value=Array(0.19923553, dtype=float32)\n",
       "        ),\n",
       "        'kernel': VariableState( # 1 (4 B)\n",
       "          type=Param,\n",
       "          value=Array(0.953969, dtype=float32)\n",
       "        )\n",
       "      }\n",
       "    }\n",
       "  }\n",
       "})"
      ]
     },
     "execution_count": 14,
     "metadata": {},
     "output_type": "execute_result"
    }
   ],
   "source": [
    "jax.tree.map(lambda x,y: jnp.linalg.norm(x-y)/jnp.linalg.norm(y), result_solver, eta)"
   ]
  },
  {
   "cell_type": "code",
   "execution_count": 17,
   "id": "d7df1d3e",
   "metadata": {},
   "outputs": [],
   "source": [
    "verify_result = G_mat.mvp(z_samples, result_solver)"
   ]
  },
  {
   "cell_type": "code",
   "execution_count": 18,
   "id": "5cfded27",
   "metadata": {},
   "outputs": [
    {
     "data": {
      "text/plain": [
       "[Array(6.983893e-05, dtype=float32),\n",
       " Array(0.00012929, dtype=float32),\n",
       " Array(7.586988e-05, dtype=float32),\n",
       " Array(7.900696e-05, dtype=float32),\n",
       " Array(5.2768468e-05, dtype=float32),\n",
       " Array(7.3272946e-05, dtype=float32),\n",
       " Array(5.998748e-06, dtype=float32),\n",
       " Array(5.5182903e-05, dtype=float32)]"
      ]
     },
     "execution_count": 18,
     "metadata": {},
     "output_type": "execute_result"
    }
   ],
   "source": [
    "\n",
    "jax.tree.leaves(jax.tree.map(lambda x,y: jnp.linalg.norm(x-y)/jnp.linalg.norm(y), result, verify_result))"
   ]
  },
  {
   "cell_type": "code",
   "execution_count": null,
   "id": "761b1041",
   "metadata": {},
   "outputs": [],
   "source": []
  },
  {
   "cell_type": "code",
   "execution_count": null,
   "id": "645fc321",
   "metadata": {},
   "outputs": [],
   "source": []
  }
 ],
 "metadata": {
  "kernelspec": {
   "display_name": "BV_Hamiltonian",
   "language": "python",
   "name": "python3"
  },
  "language_info": {
   "codemirror_mode": {
    "name": "ipython",
    "version": 3
   },
   "file_extension": ".py",
   "mimetype": "text/x-python",
   "name": "python",
   "nbconvert_exporter": "python",
   "pygments_lexer": "ipython3",
   "version": "3.13.5"
  }
 },
 "nbformat": 4,
 "nbformat_minor": 5
}
