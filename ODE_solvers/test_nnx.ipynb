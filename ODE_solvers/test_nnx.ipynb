{
 "cells": [
  {
   "cell_type": "code",
   "execution_count": null,
   "id": "d3c2654a",
   "metadata": {},
   "outputs": [],
   "source": [
    "import os\n",
    "os.environ['XLA_PYTHON_CLIENT_PREALLOCATE'] = 'false'\n",
    "from pathlib import Path\n",
    "root_path = Path.cwd().parent.absolute()\n",
    "import sys\n",
    "sys.path.append(str(root_path))\n",
    "import os"
   ]
  },
  {
   "cell_type": "code",
   "execution_count": null,
   "id": "8b4598e7",
   "metadata": {},
   "outputs": [],
   "source": [
    "from architectures.architectures import MLP\n",
    "\n",
    "from flax import nnx\n",
    "import jax\n",
    "from jax._src.tree_util import tree_structure\n",
    "import jax.numpy as jnp\n",
    "from jaxtyping import Array"
   ]
  },
  {
   "cell_type": "code",
   "execution_count": null,
   "id": "55124424",
   "metadata": {},
   "outputs": [],
   "source": [
    "index = 3\n",
    "device = jax.devices()[index] if jax.devices() else jax.devices('cpu')[0] # If only one gpu change index to 0\n",
    "print(f\"Selected device: {device}\")"
   ]
  },
  {
   "cell_type": "markdown",
   "id": "a867961a",
   "metadata": {},
   "source": [
    "# Import model"
   ]
  },
  {
   "cell_type": "code",
   "execution_count": null,
   "id": "00407157",
   "metadata": {},
   "outputs": [],
   "source": [
    "model = MLP(din=1, num_layers=3, width_layers=64, dout=1, activation_fn=\"SinTu\", rngs=nnx.Rngs(0))"
   ]
  },
  {
   "cell_type": "code",
   "execution_count": null,
   "id": "4f5216dd",
   "metadata": {},
   "outputs": [],
   "source": [
    "y = model(x = jnp.ones((10,1),device= device))"
   ]
  },
  {
   "cell_type": "markdown",
   "id": "fcfb8b9c",
   "metadata": {},
   "source": [
    "# NODE setup"
   ]
  },
  {
   "cell_type": "code",
   "execution_count": null,
   "id": "cb6c3ac0",
   "metadata": {},
   "outputs": [],
   "source": [
    "from architectures.node import NeuralODE"
   ]
  },
  {
   "cell_type": "code",
   "execution_count": null,
   "id": "13feae57",
   "metadata": {},
   "outputs": [],
   "source": [
    "key = jax.random.PRNGKey(0)\n",
    "rngs = nnx.Rngs(key)\n",
    "model = MLP(din=2, num_layers=3, width_layers=128, dout=2, activation_fn=\"tanh\", rngs=nnx.Rngs(0))\n",
    "node = NeuralODE(\n",
    "    dynamics_model=model,\n",
    "    time_dependent=False,\n",
    "    dt0=0.1,\n",
    "    rtol=1e-4,\n",
    "    atol=1e-6\n",
    ")\n",
    "\n",
    "# Initial condition\n",
    "y0 = jnp.array([1.0, 0.5])\n",
    "\n",
    "# Solve from t=0 to t=1\n",
    "y_final = node(y0, (0.0, 1.0))\n",
    "print(\"Final state:\", y_final)"
   ]
  },
  {
   "cell_type": "markdown",
   "id": "c23847a9",
   "metadata": {},
   "source": [
    "# G Mat"
   ]
  },
  {
   "cell_type": "code",
   "execution_count": null,
   "id": "f6ae0828",
   "metadata": {},
   "outputs": [],
   "source": [
    "from geometry.G_matrix import G_matrix"
   ]
  },
  {
   "cell_type": "code",
   "execution_count": null,
   "id": "cd43b0c6",
   "metadata": {},
   "outputs": [],
   "source": [
    "G_mat = G_matrix(node)"
   ]
  },
  {
   "cell_type": "code",
   "execution_count": null,
   "id": "6ca0d193",
   "metadata": {},
   "outputs": [],
   "source": [
    "# Test\n",
    "key = jax.random.PRNGKey(0)\n",
    "rngs = nnx.Rngs(key)\n",
    "\n",
    "n_samples = 100_000\n",
    "d = 2\n",
    "z_samples = jax.random.normal(key,(n_samples,d))\n",
    "\n",
    "z_samples = jax.device_put(z_samples,device)\n"
   ]
  },
  {
   "cell_type": "code",
   "execution_count": null,
   "id": "fba12eaf",
   "metadata": {},
   "outputs": [],
   "source": [
    "_,params = nnx.split(node)\n",
    "key,subkey = jax.random.split(key)\n",
    "eta = jax.tree.map(lambda p:jax.random.normal(subkey, p.shape)*10, params) #   jax.numpy.ones(p.shape)\n",
    "eta = jax.tree.map(lambda p: jax.device_put(p,device), eta)\n",
    "key,subkey = jax.random.split(key)\n",
    "epsilon = jax.tree.map(lambda p: jax.random.normal(subkey, p.shape)*0.1, params)\n",
    "eta_pert = jax.tree.map(lambda e,ep: e+ep, eta, epsilon)"
   ]
  },
  {
   "cell_type": "code",
   "execution_count": null,
   "id": "1db3700c",
   "metadata": {},
   "outputs": [],
   "source": [
    "# Compute G_hat@eta\n",
    "result = G_mat.mvp(z_samples, eta)"
   ]
  },
  {
   "cell_type": "code",
   "execution_count": null,
   "id": "98837cc7",
   "metadata": {},
   "outputs": [],
   "source": [
    "key,subkey = jax.random.split(key)\n",
    "z_samples = jax.random.normal(subkey,(n_samples,d))\n",
    "z_samples = jax.device_put(z_samples,device)\n",
    "\n",
    "# Test solver \n",
    "result_solver, _ = G_mat.solve_system(z_samples, result, tol=1e-6, maxiter=20,x0 = eta_pert, method=\"minres\")"
   ]
  },
  {
   "cell_type": "code",
   "execution_count": null,
   "id": "c83a9a9f",
   "metadata": {},
   "outputs": [],
   "source": [
    "jax.tree.map(lambda x,y: jnp.linalg.norm(x-y)/jnp.linalg.norm(y), result_solver, eta)"
   ]
  },
  {
   "cell_type": "code",
   "execution_count": null,
   "id": "d7df1d3e",
   "metadata": {},
   "outputs": [],
   "source": [
    "verify_result = G_mat.mvp(z_samples, result_solver)\n",
    "jax.tree.leaves(jax.tree.map(lambda x,y: jnp.linalg.norm(x-y)/jnp.linalg.norm(y), result, verify_result))"
   ]
  },
  {
   "cell_type": "markdown",
   "id": "a89d91b0",
   "metadata": {},
   "source": [
    "# Gradient flow test"
   ]
  },
  {
   "cell_type": "code",
   "execution_count": null,
   "id": "761b1041",
   "metadata": {},
   "outputs": [],
   "source": [
    "@jax.jit\n",
    "def quadratic_potential(x: Array) -> Array:\n",
    "    \"\"\"\n",
    "    Evaluate quadratic potential U(x) = x^2 (sum over dimensions)\n",
    "    Args:\n",
    "        x: Array of shape (batch_size, d) - particle positions\n",
    "    Returns:\n",
    "        Array of shape (batch_size,) - potential values\n",
    "    \"\"\"\n",
    "    return jnp.sum(x**2, axis=-1)\n"
   ]
  },
  {
   "cell_type": "code",
   "execution_count": null,
   "id": "b9ec0563",
   "metadata": {},
   "outputs": [],
   "source": [
    "from typing import Optional\n",
    "from jaxtyping import PyTree,Array\n",
    "from flax import nnx\n",
    "import jax"
   ]
  },
  {
   "cell_type": "code",
   "execution_count": null,
   "id": "645fc321",
   "metadata": {},
   "outputs": [],
   "source": [
    "def compute_energy_gradient(node: nnx.Module, z_samples: Array, params: Optional[PyTree] = None) -> PyTree:\n",
    "    \"\"\"\n",
    "    Compute gradient of energy functional F(ρ) = ∫ U(x)ρ(x)dx\n",
    "    Args:\n",
    "        node: Neural ODE model\n",
    "        z_samples: Reference samples (batch_size, d)\n",
    "        params: Parameters to evaluate gradient at (if None, uses current node params)\n",
    "    Returns:\n",
    "        Gradient ∇_θ F(θ)\n",
    "    \"\"\"\n",
    "    if params is None:\n",
    "        _, params = nnx.split(node)\n",
    "    \n",
    "    def energy_functional(p: PyTree) -> Array:\n",
    "        # Transform reference samples through flow\n",
    "        x_samples = node(z_samples, (0.0, 1.0), params=p)\n",
    "        # Evaluate potential and average (Monte Carlo estimate)\n",
    "        potential_values = quadratic_potential(x_samples)\n",
    "        return jnp.mean(potential_values)\n",
    "    \n",
    "    return jax.grad(energy_functional)(params)"
   ]
  },
  {
   "cell_type": "code",
   "execution_count": null,
   "id": "09b3ca65",
   "metadata": {},
   "outputs": [],
   "source": [
    "def evaluate_energy(node: nnx.Module, z_samples: Array, params: Optional[PyTree] = None) -> Array:\n",
    "    \"\"\"\n",
    "    Evaluate current energy F(ρ_θ)\n",
    "    Args:\n",
    "        node: Neural ODE model\n",
    "        z_samples: Reference samples\n",
    "        params: Parameters (if None, uses current node params)\n",
    "    Returns:\n",
    "        Energy value\n",
    "    \"\"\"\n",
    "    if params is None:\n",
    "        _, params = nnx.split(node)\n",
    "\n",
    "    x_samples = node(z_samples, (0.0, 1.0), params=params)\n",
    "    potential_values = quadratic_potential(x_samples)\n",
    "    return jnp.mean(potential_values),x_samples"
   ]
  },
  {
   "cell_type": "code",
   "execution_count": null,
   "id": "7fbb9119",
   "metadata": {},
   "outputs": [],
   "source": [
    "# Cell 2: Initial Setup and Configuration\n",
    "\n",
    "# Gradient flow parameters\n",
    "h = .75  # Time step size\n",
    "max_iterations = 20\n",
    "tolerance = 1e-6\n",
    "n_samples = 50_000  # Monte Carlo sample size\n",
    "\n",
    "# Initialize NODE with small parameters (near-identity pushforward)\n",
    "key = jax.random.PRNGKey(0)\n",
    "rngs = nnx.Rngs(key)\n",
    "\n",
    "# Create NODE model\n",
    "gradient_flow_model = MLP(din=2, num_layers=3, width_layers=64, dout=2, \n",
    "                         activation_fn=\"tanh\", rngs=rngs)\n",
    "gradient_flow_node = NeuralODE(\n",
    "    dynamics_model=gradient_flow_model,\n",
    "    time_dependent=False,\n",
    "    dt0=0.1,\n",
    "    rtol=1e-4,\n",
    "    atol=1e-6\n",
    ")\n",
    "\n",
    "# Set parameters to be very small (near zero)\n",
    "_, initial_params = nnx.split(gradient_flow_node)\n",
    "scale_factor = 0  # Small scaling to keep near identity\n",
    "\n",
    "# Scale all parameters to be small\n",
    "small_params = jax.tree.map(lambda p: p * scale_factor, initial_params)\n",
    "\n",
    "# Merge back into the node\n",
    "graphdef, _ = nnx.split(gradient_flow_node)\n",
    "gradient_flow_node = nnx.merge(graphdef, small_params)\n",
    "\n",
    "# Generate reference samples from λ = N(0, I)\n",
    "key, subkey = jax.random.split(key)\n",
    "z_samples = jax.random.normal(subkey, (n_samples, 2))\n",
    "\n",
    "# Initialize tracking arrays\n",
    "energy_history = []\n",
    "solver_stats = []\n",
    "param_norms = []\n",
    "\n",
    "print(f\"Initial setup complete:\")\n",
    "print(f\"- Time step: {h}\")\n",
    "print(f\"- Max iterations: {max_iterations}\")\n",
    "print(f\"- Sample size: {n_samples}\")\n",
    "print(f\"- Parameter scale factor: {scale_factor}\")\n",
    "\n",
    "# Verify initial energy (should be ~1.0 since E[x^2] for N(0,I) in 2D is 2.0)\n",
    "_, current_params = nnx.split(gradient_flow_node)\n",
    "initial_energy,push_samples = evaluate_energy(gradient_flow_node, z_samples, current_params)\n",
    "print(f\"- Initial energy: {initial_energy:.6f}\")\n",
    "\n",
    "energy_history.append(initial_energy)"
   ]
  },
  {
   "cell_type": "code",
   "execution_count": null,
   "id": "09d94693",
   "metadata": {},
   "outputs": [],
   "source": [
    "import matplotlib.pyplot as plt\n",
    "\n",
    "plt.scatter(push_samples[:,0], push_samples[:,1], alpha=0.1)"
   ]
  },
  {
   "cell_type": "code",
   "execution_count": null,
   "id": "8efe6df5",
   "metadata": {},
   "outputs": [],
   "source": [
    "\n",
    "def gradient_flow_step(node: nnx.Module, z_samples: Array, G_mat: G_matrix, \n",
    "                      step_size: float = 0.01, solver_tol: float = 1e-6, \n",
    "                      solver_maxiter: int = 50) -> tuple[nnx.Module, dict]:\n",
    "    \"\"\"\n",
    "    Perform one gradient flow step: θ^{k+1} = θ^k + h * η\n",
    "    where G(θ^k) η = -∇_θ F(θ^k)\n",
    "    \n",
    "    Args:\n",
    "        node: Current Neural ODE model\n",
    "        z_samples: Reference samples for Monte Carlo estimation\n",
    "        G_mat: G-matrix object for linear system solving\n",
    "        step_size: Gradient flow step size h\n",
    "        solver_tol: Tolerance for G-matrix linear solver\n",
    "        solver_maxiter: Maximum iterations for linear solver\n",
    "        \n",
    "    Returns:\n",
    "        updated_node: Node with updated parameters\n",
    "        step_info: Dictionary with step diagnostics\n",
    "    \"\"\"\n",
    "    \n",
    "    # Get current parameters\n",
    "    _, current_params = nnx.split(node)\n",
    "    \n",
    "    # Compute energy gradient ∇_θ F(θ)\n",
    "    energy_grad = compute_energy_gradient(node, z_samples, current_params)\n",
    "    \n",
    "    # Solve linear system: G(θ) η = -∇_θ F(θ)\n",
    "    neg_energy_grad = jax.tree.map(lambda x: -x, energy_grad)\n",
    "    eta, solver_info = G_mat.solve_system(z_samples, neg_energy_grad, \n",
    "                                         params=current_params,\n",
    "                                         tol=solver_tol, \n",
    "                                         maxiter=solver_maxiter,\n",
    "                                         method=\"cg\")\n",
    "    \n",
    "    # Update parameters: θ^{k+1} = θ^k + h * η\n",
    "    updated_params = jax.tree.map(lambda p, e: p + step_size * e, current_params, eta)\n",
    "    \n",
    "    # Create updated node\n",
    "    graphdef, _ = nnx.split(node)\n",
    "    updated_node = nnx.merge(graphdef, updated_params)\n",
    "    \n",
    "    # Compute diagnostics\n",
    "    grad_norm = jnp.sqrt(sum(jax.tree.leaves(jax.tree.map(lambda x: jnp.sum(x**2), energy_grad))))\n",
    "    eta_norm = jnp.sqrt(sum(jax.tree.leaves(jax.tree.map(lambda x: jnp.sum(x**2), eta))))\n",
    "    param_norm = jnp.sqrt(sum(jax.tree.leaves(jax.tree.map(lambda x: jnp.sum(x**2), updated_params))))\n",
    "    \n",
    "    step_info = {\n",
    "        # 'solver_success': solver_info['success'],\n",
    "        # 'solver_iterations': solver_info['iterations'],\n",
    "        # 'solver_residual': solver_info['norm_res'],\n",
    "        'gradient_norm': grad_norm,\n",
    "        'eta_norm': eta_norm,\n",
    "        'param_norm': param_norm,\n",
    "        'step_size': step_size\n",
    "    }\n",
    "    \n",
    "    return updated_node, step_info\n",
    "\n",
    "# Initialize G-matrix for gradient flow\n",
    "G_mat_flow = G_matrix(gradient_flow_node)\n",
    "\n"
   ]
  },
  {
   "cell_type": "code",
   "execution_count": null,
   "id": "b1f2a38f",
   "metadata": {},
   "outputs": [],
   "source": [
    "\n",
    "print(\"Testing single gradient flow step...\")\n",
    "\n",
    "# Store initial state\n",
    "_, initial_params = nnx.split(gradient_flow_node)\n",
    "initial_energy,initial_samples = evaluate_energy(gradient_flow_node, z_samples, initial_params)\n",
    "\n",
    "# Perform one gradient flow step\n",
    "updated_node, step_info = gradient_flow_step(gradient_flow_node, z_samples, G_mat_flow, \n",
    "                                           step_size=h, solver_tol=tolerance)\n",
    "\n",
    "# Compute energy after step\n",
    "_, updated_params = nnx.split(updated_node)\n",
    "final_energy,final_samples = evaluate_energy(updated_node, z_samples, updated_params)\n",
    "\n",
    "# Verification checks\n",
    "energy_decrease = initial_energy - final_energy\n",
    "relative_decrease = energy_decrease / initial_energy\n",
    "\n",
    "print(f\"\\n=== Step Verification Results ===\")\n",
    "print(f\"Initial energy:     {initial_energy:.6f}\")\n",
    "print(f\"Final energy:       {final_energy:.6f}\")\n",
    "print(f\"Energy decrease:    {energy_decrease:.6f}\")\n",
    "print(f\"Relative decrease:  {relative_decrease:.4%}\")\n",
    "# print(f\"Solver success:     {step_info['solver_success']}\")\n",
    "# print(f\"Solver iterations:  {step_info['solver_iterations']}\")\n",
    "# print(f\"Solver residual:    {step_info['solver_residual']:.2e}\")\n",
    "print(f\"Gradient norm:      {step_info['gradient_norm']:.6f}\")\n",
    "print(f\"Update norm:        {step_info['eta_norm']:.6f}\")\n",
    "\n",
    "# Validation\n",
    "assert energy_decrease > 0, f\"Energy should decrease! Got decrease: {energy_decrease}\"\n",
    "# assert step_info['solver_success'], \"Linear solver should converge!\"\n",
    "# assert step_info['solver_residual'] < tolerance * 10, \"Solver residual too large!\"\n",
    "\n",
    "print(f\"\\n✓ All checks passed! Gradient flow step working correctly.\")"
   ]
  },
  {
   "cell_type": "code",
   "execution_count": null,
   "id": "f021e58a",
   "metadata": {},
   "outputs": [],
   "source": [
    "fig,ax = plt.subplots(1,2,figsize=(20,10))\n",
    "ax[0].scatter(initial_samples[:,0],initial_samples[:,1], s = 5, alpha=0.1)\n",
    "ax[0].scatter(final_samples[:,0],final_samples[:,1], alpha=0.05 ,s = 3,c  = 'r')\n",
    "ax[0].set_title(\"Initial Samples\")\n",
    "ax[1].scatter(final_samples[:,0],final_samples[:,1], alpha=0.1)\n",
    "ax[1].set_title(\"Final Samples\")"
   ]
  },
  {
   "cell_type": "code",
   "execution_count": null,
   "id": "3d459680",
   "metadata": {},
   "outputs": [],
   "source": [
    "fig = plt.figure(figsize=(20,15))\n",
    "plt.scatter(initial_samples[:,0],initial_samples[:,1], alpha=0.5,s = 10)\n",
    "plt.scatter(final_samples[:,0],final_samples[:,1], alpha=0.3,s = 5, c = 'r')"
   ]
  },
  {
   "cell_type": "code",
   "execution_count": null,
   "id": "665de88f",
   "metadata": {},
   "outputs": [],
   "source": []
  }
 ],
 "metadata": {
  "kernelspec": {
   "display_name": "BV_Hamiltonian",
   "language": "python",
   "name": "python3"
  },
  "language_info": {
   "codemirror_mode": {
    "name": "ipython",
    "version": 3
   },
   "file_extension": ".py",
   "mimetype": "text/x-python",
   "name": "python",
   "nbconvert_exporter": "python",
   "pygments_lexer": "ipython3",
   "version": "3.13.5"
  }
 },
 "nbformat": 4,
 "nbformat_minor": 5
}
