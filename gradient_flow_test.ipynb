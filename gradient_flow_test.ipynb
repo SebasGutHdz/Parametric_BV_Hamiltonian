{
 "cells": [
  {
   "cell_type": "code",
   "execution_count": 1,
   "id": "b710fd22",
   "metadata": {},
   "outputs": [],
   "source": [
    "import os\n",
    "os.environ['XLA_PYTHON_CLIENT_PREALLOCATE'] = 'false'\n",
    "from pathlib import Path\n",
    "root_path = Path.cwd().parent.absolute()\n",
    "import sys\n",
    "sys.path.append(str(root_path))\n",
    "import os"
   ]
  },
  {
   "cell_type": "code",
   "execution_count": null,
   "id": "5540b383",
   "metadata": {},
   "outputs": [],
   "source": [
    "from flax import nnx\n",
    "import jax\n",
    "from jax._src.tree_util import tree_structure\n",
    "import jax.numpy as jnp\n",
    "from jaxtyping import Array"
   ]
  },
  {
   "cell_type": "code",
   "execution_count": 5,
   "id": "82bbaf19",
   "metadata": {},
   "outputs": [],
   "source": [
    "from architectures.node import NeuralODE\n",
    "from architectures.architectures import MLP\n",
    "from geometry.G_matrix import G_matrix\n",
    "from functionals.functions import create_potentials\n",
    "from functionals.linear_funcitonal_class import LinearPotential\n",
    "from flows.gradient_flow import run_gradient_flow\n",
    "from flows.visualization import visualize_gradient_flow_results"
   ]
  },
  {
   "cell_type": "code",
   "execution_count": 6,
   "id": "91b96078",
   "metadata": {},
   "outputs": [],
   "source": [
    "# Create potentials\n",
    "potentials = create_potentials()"
   ]
  },
  {
   "cell_type": "code",
   "execution_count": 7,
   "id": "9b35f9fb",
   "metadata": {},
   "outputs": [],
   "source": [
    "# Gradient flow parameters\n",
    "h = 1e-2 # Time step size\n",
    "max_iterations = 100\n",
    "tolerance = 1e-6\n",
    "n_samples = 4_000  # Monte Carlo sample size\n",
    "\n",
    "\n",
    "key = jax.random.PRNGKey(0)\n",
    "rngs = nnx.Rngs(key)\n",
    "\n",
    "# Create NODE model\n",
    "gradient_flow_model = MLP(din=2, num_layers=1, width_layers=32, dout=2, \n",
    "                         activation_fn=\"tanh\", rngs=rngs)\n",
    "gradient_flow_node = NeuralODE(\n",
    "    dynamics_model=gradient_flow_model,\n",
    "    time_dependent=False,\n",
    "    dt0=0.1,\n",
    ")\n",
    "\n",
    "# Set parameters to be very small (near zero)\n",
    "_, initial_params = nnx.split(gradient_flow_node)\n",
    "scale_factor = 1e-2  # Small scaling to keep near identity\n",
    "\n",
    "# Scale all parameters to be small\n",
    "small_params = jax.tree.map(lambda p: p * scale_factor, initial_params)\n",
    "\n",
    "# Merge back into the node\n",
    "graphdef, _ = nnx.split(gradient_flow_node)\n",
    "gradient_flow_node = nnx.merge(graphdef, small_params)\n",
    "\n",
    "# Generate reference samples from λ = N(0, I)\n",
    "key, subkey = jax.random.split(key)\n",
    "z_samples = jax.random.normal(subkey, (n_samples, 2))\n",
    "\n",
    "G_mat_flow = G_matrix(gradient_flow_node)\n",
    "\n",
    "potential = potentials['strong_double_well'] # Options: quadratic, double_well, strong_double_well,quartic\n",
    "solver= 'minres'\n"
   ]
  },
  {
   "cell_type": "code",
   "execution_count": null,
   "id": "3490fa43",
   "metadata": {},
   "outputs": [
    {
     "name": "stdout",
     "output_type": "stream",
     "text": [
      "Starting gradient flow with LinearPotential...\n",
      "Potential function: double_well_potential_fn\n",
      "Potential parameters: {'alpha': 5.0}\n",
      "Selected device: cuda:0\n",
      "Initial energy: 8.136963\n",
      "Target: minimize energy functional\n"
     ]
    },
    {
     "name": "stderr",
     "output_type": "stream",
     "text": [
      "2025-08-27 14:01:49.745975: W external/xla/xla/service/gpu/autotuning/dot_search_space.cc:200] All configs were filtered out because none of them sufficiently match the hints. Maybe the hints set does not contain a good representative set of valid configs?Working around this by using the full hints set instead.\n"
     ]
    }
   ],
   "source": [
    "\n",
    "results = run_gradient_flow(\n",
    "    gradient_flow_node, z_samples, G_mat_flow,\n",
    "    potential,solver=solver,\n",
    "    h=h, max_iterations=max_iterations, tolerance=tolerance\n",
    ")"
   ]
  },
  {
   "cell_type": "code",
   "execution_count": null,
   "id": "1ebce33a",
   "metadata": {},
   "outputs": [],
   "source": [
    "# Visualize results\n",
    "visualize_gradient_flow_results(results)"
   ]
  }
 ],
 "metadata": {
  "kernelspec": {
   "display_name": "BV_Hamiltonian",
   "language": "python",
   "name": "python3"
  },
  "language_info": {
   "codemirror_mode": {
    "name": "ipython",
    "version": 3
   },
   "file_extension": ".py",
   "mimetype": "text/x-python",
   "name": "python",
   "nbconvert_exporter": "python",
   "pygments_lexer": "ipython3",
   "version": "3.13.5"
  }
 },
 "nbformat": 4,
 "nbformat_minor": 5
}
