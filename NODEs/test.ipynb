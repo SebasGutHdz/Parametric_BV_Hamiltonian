{
 "cells": [
  {
   "cell_type": "code",
   "execution_count": 1,
   "id": "f96da207",
   "metadata": {},
   "outputs": [],
   "source": [
    "import os\n",
    "os.environ['XLA_PYTHON_CLIENT_PREALLOCATE'] = 'false'\n",
    "from pathlib import Path\n",
    "root_path = Path.cwd().parent.absolute()\n",
    "import sys\n",
    "sys.path.append(str(root_path))\n",
    "import os"
   ]
  },
  {
   "cell_type": "code",
   "execution_count": 2,
   "id": "085e99a6",
   "metadata": {},
   "outputs": [],
   "source": [
    "from architectures.MMNN import SinTUActivation,MMNN\n",
    "from architectures.node import Parametric_NODE,init_node\n",
    "from solvers import string_2_solver"
   ]
  },
  {
   "cell_type": "code",
   "execution_count": 3,
   "id": "40d05d8b",
   "metadata": {},
   "outputs": [],
   "source": [
    "from typing import Sequence, Callable, Optional, Dict, Any\n",
    "from typing import List\n",
    "from functools import partial\n",
    "\n",
    "import jax\n",
    "import jax.numpy as jnp\n",
    "import jax.random as jrandom\n",
    "import flax.linen as nn\n",
    "import optax\n",
    "import diffrax\n",
    "\n",
    "import matplotlib.pyplot as plt\n",
    "# plt.style.use('figures/images_style.mplstyle')\n",
    "import numpy as np"
   ]
  },
  {
   "cell_type": "code",
   "execution_count": 4,
   "id": "4c735296",
   "metadata": {},
   "outputs": [],
   "source": [
    "device = jax.devices()[0] if jax.devices() else jax.devices('cpu')[0]"
   ]
  },
  {
   "cell_type": "code",
   "execution_count": 5,
   "id": "b945ea0b",
   "metadata": {},
   "outputs": [],
   "source": [
    "# Create model \n",
    "\n",
    "d_space = 2\n",
    "include_time = True\n",
    "if include_time:\n",
    "    ranks = [d_space+1]+ [18]*5 + [ 2]     # Adjusted ranks for time\n",
    "else:\n",
    "    ranks = [2]+ [18]*5 + [ 2]     # Adjusted ranks for no time\n",
    "widths = [356]*6      #\n",
    "\n",
    "\n",
    "mmnn = MMNN(\n",
    "    ranks=ranks,\n",
    "    widths=widths,\n",
    "    activation=SinTUActivation(),\n",
    "    ResNet=False,\n",
    "    FixWb=True\n",
    ")\n",
    "\n",
    "parameters = init_node(mmnn, d_space=d_space, include_time=include_time)\n",
    "\n",
    "\n",
    "node = Parametric_NODE(\n",
    "    model = mmnn,\n",
    "    parameters=parameters,\n",
    "    include_time=include_time,\n",
    "    solver='euler',\n",
    "    dt=0.01,\n",
    "    history=False\n",
    ")\n",
    "\n"
   ]
  },
  {
   "cell_type": "code",
   "execution_count": 6,
   "id": "6923423c",
   "metadata": {},
   "outputs": [],
   "source": [
    "t_ = jnp.linspace(0, 1, 100)\n",
    "y0 = jnp.array([[1.0, 0.0]])\n",
    "\n",
    "y1 = node.forward(\n",
    "    parameters=parameters,\n",
    "    t_list=t_,\n",
    "    y0=y0\n",
    ")"
   ]
  },
  {
   "cell_type": "code",
   "execution_count": null,
   "id": "bdfc7020",
   "metadata": {},
   "outputs": [],
   "source": []
  }
 ],
 "metadata": {
  "kernelspec": {
   "display_name": "BV_Hamiltonian",
   "language": "python",
   "name": "python3"
  },
  "language_info": {
   "codemirror_mode": {
    "name": "ipython",
    "version": 3
   },
   "file_extension": ".py",
   "mimetype": "text/x-python",
   "name": "python",
   "nbconvert_exporter": "python",
   "pygments_lexer": "ipython3",
   "version": "3.13.5"
  }
 },
 "nbformat": 4,
 "nbformat_minor": 5
}
