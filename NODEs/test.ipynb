{
 "cells": [
  {
   "cell_type": "code",
   "execution_count": 1,
   "id": "f96da207",
   "metadata": {},
   "outputs": [],
   "source": [
    "import os\n",
    "os.environ['XLA_PYTHON_CLIENT_PREALLOCATE'] = 'false'\n",
    "from pathlib import Path\n",
    "root_path = Path.cwd().parent.absolute()\n",
    "import sys\n",
    "sys.path.append(str(root_path))\n",
    "import os"
   ]
  },
  {
   "cell_type": "code",
   "execution_count": 2,
   "id": "085e99a6",
   "metadata": {},
   "outputs": [],
   "source": [
    "from architectures.MMNN import SinTUActivation,MMNN\n",
    "from architectures.node import Parametric_NODE,init_node\n",
    "from geometry.G_matrix import compute_Gv_vmap\n",
    "from solvers import string_2_solver"
   ]
  },
  {
   "cell_type": "code",
   "execution_count": 3,
   "id": "40d05d8b",
   "metadata": {},
   "outputs": [],
   "source": [
    "from typing import Sequence, Callable, Optional, Dict, Any\n",
    "from typing import List\n",
    "from functools import partial\n",
    "\n",
    "import jax\n",
    "import jax.numpy as jnp\n",
    "import jax.random as jrandom\n",
    "import flax.linen as nn\n",
    "from flax.core import copy\n",
    "from jax import flatten_util\n",
    "import optax\n",
    "import diffrax\n",
    "\n",
    "import matplotlib.pyplot as plt\n",
    "# plt.style.use('figures/images_style.mplstyle')\n",
    "import numpy as np"
   ]
  },
  {
   "cell_type": "code",
   "execution_count": 4,
   "id": "4c735296",
   "metadata": {},
   "outputs": [
    {
     "name": "stdout",
     "output_type": "stream",
     "text": [
      "Using device: cuda:0\n"
     ]
    }
   ],
   "source": [
    "device = jax.devices()[0] if jax.devices() else jax.devices('cpu')[0]\n",
    "print(f\"Using device: {device}\")"
   ]
  },
  {
   "cell_type": "code",
   "execution_count": 5,
   "id": "b945ea0b",
   "metadata": {},
   "outputs": [],
   "source": [
    "# Create model \n",
    "\n",
    "d_space = 2\n",
    "include_time = True\n",
    "rank = 50\n",
    "width = 356\n",
    "n_layers = 5\n",
    "if include_time:\n",
    "    ranks = [d_space+1]+ [rank]*n_layers + [ d_space]     # Adjusted ranks for time\n",
    "else:\n",
    "    ranks = [2]+ [rank]*n_layers + [ 2]     # Adjusted ranks for no time\n",
    "widths = [width]*(n_layers+1)      #\n",
    "\n",
    "\n",
    "mmnn = MMNN(\n",
    "    ranks=ranks,\n",
    "    widths=widths,\n",
    "    activation=SinTUActivation(),\n",
    "    ResNet=False,\n",
    "    FixWb=True\n",
    ")\n",
    "\n",
    "parameters = init_node(mmnn, d_space=d_space, include_time=include_time)\n",
    "\n",
    "\n",
    "node = Parametric_NODE(\n",
    "    model = mmnn,\n",
    "    parameters=parameters,\n",
    "    include_time=include_time,\n",
    "    solver='euler',\n",
    "    dt=0.01,\n",
    "    history=False\n",
    ")\n",
    "\n"
   ]
  },
  {
   "cell_type": "code",
   "execution_count": 6,
   "id": "6923423c",
   "metadata": {},
   "outputs": [],
   "source": [
    "t_ = jnp.linspace(0, 1, 20)\n",
    "y0 = jnp.array([[0.0, 0.0]])\n",
    "\n",
    "y1 = node.forward(\n",
    "    parameters=parameters,\n",
    "    t_list=t_,\n",
    "    y0=y0,\n",
    "    history=True\n",
    ")"
   ]
  },
  {
   "cell_type": "code",
   "execution_count": 7,
   "id": "941047b7",
   "metadata": {},
   "outputs": [
    {
     "data": {
      "image/png": "[encoded data removed]",
      "text/plain": [
       "<Figure size 1000x500 with 1 Axes>"
      ]
     },
     "metadata": {},
     "output_type": "display_data"
    }
   ],
   "source": [
    "import matplotlib.pyplot as plt\n",
    "plt.figure(figsize=(10, 5))\n",
    "plt.scatter(y1[:,0], y1[:,1], s=10, label='Trajectory')\n",
    "plt.xlabel('State 1')\n",
    "plt.ylabel('State 2')\n",
    "plt.title('State Evolution Over Time')\n",
    "plt.legend()\n",
    "plt.grid()\n",
    "plt.show()"
   ]
  },
  {
   "cell_type": "markdown",
   "id": "937bd8ac",
   "metadata": {},
   "source": [
    "# Computation of Gv MVP"
   ]
  },
  {
   "cell_type": "code",
   "execution_count": 9,
   "id": "bdfc7020",
   "metadata": {},
   "outputs": [],
   "source": [
    "key  = jrandom.PRNGKey(0)\n",
    "n_samples = 1000\n",
    "\n",
    "z_samples = jrandom.normal(key, (n_samples, d_space))\n"
   ]
  },
  {
   "cell_type": "code",
   "execution_count": 19,
   "id": "e0b771bc",
   "metadata": {},
   "outputs": [
    {
     "name": "stdout",
     "output_type": "stream",
     "text": [
      "Number of parameters: 89964\n"
     ]
    }
   ],
   "source": [
    "# Extract only trainable parameters  \n",
    "trainable_params = parameters['params']  # Exclude 'fixed' collection\n",
    "trainable_params = jax.tree.map(lambda x: jax.device_put(x, device), trainable_params)\n",
    "# Create v only for trainable parameters\n",
    "v_trainable = jax.tree.map(lambda x: jrandom.normal(key, x.shape)*0.2, trainable_params)\n",
    "v_trainable = jax.device_put(v_trainable, device)\n",
    "print(f\"Number of parameters: {sum(jnp.size(leaf) for leaf in jax.tree.leaves(trainable_params))}\")\n",
    "\n",
    "z_samples = jax.device_put(z_samples,device)"
   ]
  },
  {
   "cell_type": "code",
   "execution_count": 20,
   "id": "58ce5d74",
   "metadata": {},
   "outputs": [
    {
     "name": "stdout",
     "output_type": "stream",
     "text": [
      "[-4.2314906 -4.752965   8.4861765 ... -1.4336398 60.050755  15.28906  ]\n"
     ]
    }
   ],
   "source": [
    "output = compute_Gv_vmap(node, parameters, v_trainable, z_samples, device, t_final=1, n_time_steps=20)\n",
    "output_jnp = flatten_util.ravel_pytree(output)[0]  # Flatten the output for further processing if needed\n",
    "print(output_jnp)"
   ]
  },
  {
   "cell_type": "code",
   "execution_count": null,
   "id": "a2a6057b",
   "metadata": {},
   "outputs": [],
   "source": []
  }
 ],
 "metadata": {
  "kernelspec": {
   "display_name": "BV_Hamiltonian",
   "language": "python",
   "name": "python3"
  },
  "language_info": {
   "codemirror_mode": {
    "name": "ipython",
    "version": 3
   },
   "file_extension": ".py",
   "mimetype": "text/x-python",
   "name": "python",
   "nbconvert_exporter": "python",
   "pygments_lexer": "ipython3",
   "version": "3.13.5"
  }
 },
 "nbformat": 4,
 "nbformat_minor": 5
}
